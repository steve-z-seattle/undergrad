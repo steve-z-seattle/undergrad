{
 "cells": [
  {
   "cell_type": "code",
   "execution_count": 1,
   "id": "92af4a1d-af7f-4cf5-95dd-ea4b613b3851",
   "metadata": {
    "tags": []
   },
   "outputs": [],
   "source": [
    "import math\n",
    "import random"
   ]
  },
  {
   "cell_type": "code",
   "execution_count": 12,
   "id": "e7c136c7-551e-4426-8bfb-472c2e08e49b",
   "metadata": {
    "tags": []
   },
   "outputs": [],
   "source": [
    "class Value:\n",
    "    \n",
    "    def __init__(self, data, op=None, prev=None):\n",
    "        self.data = data\n",
    "        self.grad = 0.0\n",
    "        self.op = op\n",
    "        self.prev = prev\n",
    "        \n",
    "    def __repr__(self):\n",
    "        # return f\"Value({self.data, self.grad, self.op, self.prev})\"\n",
    "        return f\"Value({self.data, self.grad})\"\n",
    "        \n",
    "    # ---------------------------------------------------\n",
    "    # operators\n",
    "    # ---------------------------------------------------\n",
    "    def __add__(self, y):\n",
    "        return Value(self.data + y.data, op='+', prev=(self, y))\n",
    "\n",
    "    def __mul__(self, y):\n",
    "        return Value(self.data * y.data, op='*', prev=(self, y))\n",
    "    \n",
    "    def tanh(self):\n",
    "        return Value(math.tanh(self.data), op='tanh', prev=(self,))\n",
    "\n",
    "    # ---------------------------------------------------\n",
    "    # backward\n",
    "    # ---------------------------------------------------\n",
    "    def backward(self):\n",
    "        def populate_gradient(out, op, prev):\n",
    "            match op:\n",
    "                case '+':\n",
    "                    x, y = prev\n",
    "                    x.grad += out.grad\n",
    "                    y.grad += out.grad\n",
    "                case '*':\n",
    "                    x, y = prev\n",
    "                    x.grad += y.data * out.grad\n",
    "                    y.grad += x.data * out.grad\n",
    "                case 'tanh':\n",
    "                    (x,) = prev\n",
    "                    x.grad += (1 - out.data**2) * out.grad\n",
    "                case _:\n",
    "                    assert False, f'unsupported op: {op}'        \n",
    "\n",
    "        def backward_recursive(node):\n",
    "            assert node is not None\n",
    "            if node in visited:\n",
    "                assert False, 'not a DAG'\n",
    "            else:\n",
    "                visited.add(node)\n",
    "            if node.prev:\n",
    "                populate_gradient(node, node.op, node.prev)\n",
    "                for nd in node.prev:\n",
    "                    backward_recursive(nd)\n",
    "            \n",
    "        self.grad = 1.0\n",
    "        visited = set()\n",
    "        backward_recursive(self)"
   ]
  },
  {
   "cell_type": "code",
   "execution_count": 13,
   "id": "b438b978-2f84-4d3f-a14a-f8e078299c8e",
   "metadata": {
    "tags": []
   },
   "outputs": [
    {
     "data": {
      "text/plain": [
       "Value((2, 0.0))"
      ]
     },
     "execution_count": 13,
     "metadata": {},
     "output_type": "execute_result"
    }
   ],
   "source": [
    "u = Value(2)\n",
    "u"
   ]
  },
  {
   "cell_type": "code",
   "execution_count": 14,
   "id": "a5904cd1-cce3-4af3-827b-28779f1689a1",
   "metadata": {
    "tags": []
   },
   "outputs": [
    {
     "data": {
      "text/plain": [
       "Value((0.9640275800758169, 0.0))"
      ]
     },
     "execution_count": 14,
     "metadata": {},
     "output_type": "execute_result"
    }
   ],
   "source": [
    "L = u.tanh()\n",
    "L"
   ]
  },
  {
   "cell_type": "code",
   "execution_count": 15,
   "id": "4a5a9f87-4607-43e6-ac5f-8867930e8e52",
   "metadata": {
    "tags": []
   },
   "outputs": [
    {
     "data": {
      "text/plain": [
       "Value((0.9640275800758169, 1.0))"
      ]
     },
     "execution_count": 15,
     "metadata": {},
     "output_type": "execute_result"
    }
   ],
   "source": [
    "L.grad = 1.0\n",
    "L"
   ]
  },
  {
   "cell_type": "code",
   "execution_count": 16,
   "id": "2d097874-95ef-4ffe-9162-c1d3c382fe15",
   "metadata": {
    "tags": []
   },
   "outputs": [
    {
     "data": {
      "text/plain": [
       "(Value((2, 0.0)),)"
      ]
     },
     "execution_count": 16,
     "metadata": {},
     "output_type": "execute_result"
    }
   ],
   "source": [
    "L.prev"
   ]
  },
  {
   "cell_type": "code",
   "execution_count": 17,
   "id": "789910b7-333c-4001-82c2-e61b4c1fd5ec",
   "metadata": {
    "tags": []
   },
   "outputs": [],
   "source": [
    "L.backward()"
   ]
  },
  {
   "cell_type": "code",
   "execution_count": 18,
   "id": "3b3ffe99-5baa-46f3-8011-bd7105ef6616",
   "metadata": {
    "tags": []
   },
   "outputs": [
    {
     "data": {
      "text/plain": [
       "Value((2, 0.07065082485316443))"
      ]
     },
     "execution_count": 18,
     "metadata": {},
     "output_type": "execute_result"
    }
   ],
   "source": [
    "u"
   ]
  },
  {
   "cell_type": "code",
   "execution_count": null,
   "id": "6adaf8a8-92fb-4ecf-a8ca-bddd13384828",
   "metadata": {},
   "outputs": [],
   "source": []
  },
  {
   "cell_type": "code",
   "execution_count": null,
   "id": "e24d9a94-2b00-4175-bc7d-b0b11f2ac824",
   "metadata": {},
   "outputs": [],
   "source": []
  },
  {
   "cell_type": "code",
   "execution_count": 19,
   "id": "dfd7c568-70fa-442b-9435-0c0966336c85",
   "metadata": {
    "tags": []
   },
   "outputs": [
    {
     "data": {
      "text/plain": [
       "Value((3.0, 0.0))"
      ]
     },
     "execution_count": 19,
     "metadata": {},
     "output_type": "execute_result"
    }
   ],
   "source": [
    "v = Value(3.0)\n",
    "v"
   ]
  },
  {
   "cell_type": "code",
   "execution_count": 20,
   "id": "fad909aa-f2d4-43f0-a4bc-c398d62765c2",
   "metadata": {
    "tags": []
   },
   "outputs": [
    {
     "data": {
      "text/plain": [
       "Value((5.1, 0.0))"
      ]
     },
     "execution_count": 20,
     "metadata": {},
     "output_type": "execute_result"
    }
   ],
   "source": [
    "w = Value(5.1)\n",
    "w"
   ]
  },
  {
   "cell_type": "code",
   "execution_count": 21,
   "id": "caf4c382-d927-4668-aad6-18d12c452989",
   "metadata": {
    "tags": []
   },
   "outputs": [
    {
     "data": {
      "text/plain": [
       "Value((11.1, 0.0))"
      ]
     },
     "execution_count": 21,
     "metadata": {},
     "output_type": "execute_result"
    }
   ],
   "source": [
    "L = u * v + w\n",
    "L"
   ]
  },
  {
   "cell_type": "code",
   "execution_count": null,
   "id": "11a6eb63-6c70-4195-99c6-d05c6c878ba0",
   "metadata": {},
   "outputs": [],
   "source": []
  },
  {
   "cell_type": "code",
   "execution_count": null,
   "id": "665c32a3-55bf-4cf5-baf8-f6c15130d479",
   "metadata": {},
   "outputs": [],
   "source": []
  }
 ],
 "metadata": {
  "kernelspec": {
   "display_name": "Python 3 (ipykernel)",
   "language": "python",
   "name": "python3"
  },
  "language_info": {
   "codemirror_mode": {
    "name": "ipython",
    "version": 3
   },
   "file_extension": ".py",
   "mimetype": "text/x-python",
   "name": "python",
   "nbconvert_exporter": "python",
   "pygments_lexer": "ipython3",
   "version": "3.10.6"
  }
 },
 "nbformat": 4,
 "nbformat_minor": 5
}
