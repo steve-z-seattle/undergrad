{
 "cells": [
  {
   "cell_type": "code",
   "execution_count": 2,
   "id": "92af4a1d-af7f-4cf5-95dd-ea4b613b3851",
   "metadata": {
    "tags": []
   },
   "outputs": [],
   "source": [
    "import math\n",
    "import random"
   ]
  },
  {
   "cell_type": "code",
   "execution_count": 3,
   "id": "6574b5f0-50f4-4a04-be0d-5097b696db38",
   "metadata": {
    "tags": []
   },
   "outputs": [],
   "source": [
    "# utility function for topoligical sort"
   ]
  },
  {
   "cell_type": "code",
   "execution_count": 60,
   "id": "bf62c38b-e97a-463b-95e6-91346daed4e8",
   "metadata": {
    "tags": []
   },
   "outputs": [],
   "source": [
    "class util:\n",
    "    @staticmethod\n",
    "    def build_topo(root):\n",
    "        \"\"\"\n",
    "        Since it is OK to update the gradient through each egde,\n",
    "        but it is not OK to call the backward on any node more than once,\n",
    "        we use a `set` visited to dedup nodes.\n",
    "        \"\"\"\n",
    "        def build_topo_recursive(v):\n",
    "            if v is None:\n",
    "                return\n",
    "            if v not in visited:\n",
    "                visited.add(v)\n",
    "                if v.prev:\n",
    "                    for child in v.prev:\n",
    "                        build_topo_recursive(child)\n",
    "                topo.append(v)\n",
    "\n",
    "        visited = set()\n",
    "        topo = []\n",
    "        build_topo_recursive(root)\n",
    "        return topo"
   ]
  },
  {
   "cell_type": "code",
   "execution_count": 15,
   "id": "79cfa339-50e6-4d42-8bef-da024f73b24e",
   "metadata": {
    "tags": []
   },
   "outputs": [],
   "source": [
    "# define Value, which is like torch.tensor"
   ]
  },
  {
   "cell_type": "code",
   "execution_count": 16,
   "id": "e7c136c7-551e-4426-8bfb-472c2e08e49b",
   "metadata": {
    "tags": []
   },
   "outputs": [],
   "source": [
    "class Value:\n",
    "    def __init__(self, data, op=None, prev=None):\n",
    "        self.data = data\n",
    "        self.grad = 0.0\n",
    "        self.op = op\n",
    "        self.prev = prev\n",
    "        \n",
    "    def __repr__(self):\n",
    "        # return f\"Value({self.data, self.grad, self.op, self.prev})\"\n",
    "        return f\"Value(data={self.data:.6f}, grad={self.grad:.6f})\"\n",
    "        \n",
    "    # ---------------------------------------------------\n",
    "    # operators\n",
    "    # ---------------------------------------------------\n",
    "    def __add__(self, y):\n",
    "        return Value(self.data + y.data, op='+', prev=(self, y))\n",
    "\n",
    "    def __sub__(self, y):\n",
    "        return Value(self.data - y.data, op='-', prev=(self, y))\n",
    "\n",
    "    def __mul__(self, y):\n",
    "        return Value(self.data * y.data, op='*', prev=(self, y))\n",
    "    \n",
    "    def tanh(self):\n",
    "        return Value(math.tanh(self.data), op='tanh', prev=(self,))\n",
    "\n",
    "    @staticmethod\n",
    "    def populate_gradients(out, op, prev):\n",
    "        if prev is None:\n",
    "            return\n",
    "        match op:\n",
    "            case '+':\n",
    "                x, y = prev\n",
    "                x.grad += out.grad\n",
    "                y.grad += out.grad\n",
    "            case '-':\n",
    "                x, y = prev\n",
    "                x.grad += out.grad\n",
    "                y.grad -= out.grad\n",
    "            case '*':\n",
    "                x, y = prev\n",
    "                x.grad += y.data * out.grad\n",
    "                y.grad += x.data * out.grad\n",
    "            case 'tanh':\n",
    "                (x,) = prev\n",
    "                x.grad += (1 - out.data**2) * out.grad\n",
    "            case _:\n",
    "                assert False, f'unsupported op: {op}'\n",
    "\n",
    "    # ---------------------------------------------------\n",
    "    # backward\n",
    "    # ---------------------------------------------------\n",
    "    def backward(self):\n",
    "        topo = util.build_topo(self)\n",
    "        self.grad = 1.0\n",
    "        for node in reversed(topo):\n",
    "            Value.populate_gradients(node, node.op, node.prev)"
   ]
  },
  {
   "cell_type": "code",
   "execution_count": 17,
   "id": "19d04d61-c327-4be2-85a1-966f9bd08d05",
   "metadata": {
    "tags": []
   },
   "outputs": [],
   "source": [
    "x = Value(-4.0)\n",
    "z = x + Value(1.0)\n",
    "L = z + z*x\n",
    "# L.grad = 1.0\n",
    "L.backward()"
   ]
  },
  {
   "cell_type": "code",
   "execution_count": 18,
   "id": "ded367ea-74bc-4c95-89ce-784f899be250",
   "metadata": {
    "tags": []
   },
   "outputs": [
    {
     "data": {
      "text/plain": [
       "Value(data=-4.000000, grad=-6.000000)"
      ]
     },
     "execution_count": 18,
     "metadata": {},
     "output_type": "execute_result"
    }
   ],
   "source": [
    "x"
   ]
  },
  {
   "cell_type": "code",
   "execution_count": null,
   "id": "1919e0f0-6094-454b-99cf-9696c30e6f15",
   "metadata": {},
   "outputs": [],
   "source": []
  },
  {
   "cell_type": "code",
   "execution_count": 19,
   "id": "b438b978-2f84-4d3f-a14a-f8e078299c8e",
   "metadata": {
    "tags": []
   },
   "outputs": [
    {
     "data": {
      "text/plain": [
       "Value(data=2.000000, grad=0.000000)"
      ]
     },
     "execution_count": 19,
     "metadata": {},
     "output_type": "execute_result"
    }
   ],
   "source": [
    "u = Value(2)\n",
    "u"
   ]
  },
  {
   "cell_type": "code",
   "execution_count": 20,
   "id": "dd08071a-f46d-4f49-9483-065fc47997a3",
   "metadata": {
    "tags": []
   },
   "outputs": [
    {
     "data": {
      "text/plain": [
       "Value(data=3.000000, grad=0.000000)"
      ]
     },
     "execution_count": 20,
     "metadata": {},
     "output_type": "execute_result"
    }
   ],
   "source": [
    "v = Value(3.0)\n",
    "v"
   ]
  },
  {
   "cell_type": "code",
   "execution_count": 21,
   "id": "191aac55-d50b-4d63-a27a-a5fe3b6f2488",
   "metadata": {
    "tags": []
   },
   "outputs": [
    {
     "data": {
      "text/plain": [
       "Value(data=5.100000, grad=0.000000)"
      ]
     },
     "execution_count": 21,
     "metadata": {},
     "output_type": "execute_result"
    }
   ],
   "source": [
    "w = Value(5.1)\n",
    "w"
   ]
  },
  {
   "cell_type": "code",
   "execution_count": null,
   "id": "a290bb06-3466-421e-93d4-b62341f9adbf",
   "metadata": {},
   "outputs": [],
   "source": []
  },
  {
   "cell_type": "code",
   "execution_count": 22,
   "id": "b9b247be-bb22-44b9-9352-7f70655352b1",
   "metadata": {
    "tags": []
   },
   "outputs": [],
   "source": [
    "# case 1"
   ]
  },
  {
   "cell_type": "code",
   "execution_count": 23,
   "id": "a5904cd1-cce3-4af3-827b-28779f1689a1",
   "metadata": {
    "tags": []
   },
   "outputs": [
    {
     "data": {
      "text/plain": [
       "Value(data=0.964028, grad=0.000000)"
      ]
     },
     "execution_count": 23,
     "metadata": {},
     "output_type": "execute_result"
    }
   ],
   "source": [
    "L = u.tanh()\n",
    "L"
   ]
  },
  {
   "cell_type": "code",
   "execution_count": 24,
   "id": "4a5a9f87-4607-43e6-ac5f-8867930e8e52",
   "metadata": {
    "tags": []
   },
   "outputs": [
    {
     "data": {
      "text/plain": [
       "Value(data=0.964028, grad=1.000000)"
      ]
     },
     "execution_count": 24,
     "metadata": {},
     "output_type": "execute_result"
    }
   ],
   "source": [
    "L.grad = 1.0\n",
    "L"
   ]
  },
  {
   "cell_type": "code",
   "execution_count": 25,
   "id": "2d097874-95ef-4ffe-9162-c1d3c382fe15",
   "metadata": {
    "tags": []
   },
   "outputs": [
    {
     "data": {
      "text/plain": [
       "(Value(data=2.000000, grad=0.000000),)"
      ]
     },
     "execution_count": 25,
     "metadata": {},
     "output_type": "execute_result"
    }
   ],
   "source": [
    "L.prev"
   ]
  },
  {
   "cell_type": "code",
   "execution_count": 26,
   "id": "a9951026-0dee-48b0-adda-3b87d8ce3a80",
   "metadata": {
    "tags": []
   },
   "outputs": [],
   "source": [
    "u.grad = 0"
   ]
  },
  {
   "cell_type": "code",
   "execution_count": 27,
   "id": "789910b7-333c-4001-82c2-e61b4c1fd5ec",
   "metadata": {
    "tags": []
   },
   "outputs": [],
   "source": [
    "L.backward()"
   ]
  },
  {
   "cell_type": "code",
   "execution_count": 28,
   "id": "3b3ffe99-5baa-46f3-8011-bd7105ef6616",
   "metadata": {
    "tags": []
   },
   "outputs": [
    {
     "data": {
      "text/plain": [
       "Value(data=2.000000, grad=0.070651)"
      ]
     },
     "execution_count": 28,
     "metadata": {},
     "output_type": "execute_result"
    }
   ],
   "source": [
    "u"
   ]
  },
  {
   "cell_type": "code",
   "execution_count": null,
   "id": "6adaf8a8-92fb-4ecf-a8ca-bddd13384828",
   "metadata": {},
   "outputs": [],
   "source": []
  },
  {
   "cell_type": "code",
   "execution_count": 29,
   "id": "ecbe991c-9797-4d0d-b9b3-5f96b60c4442",
   "metadata": {
    "tags": []
   },
   "outputs": [],
   "source": [
    "# case 2"
   ]
  },
  {
   "cell_type": "code",
   "execution_count": 30,
   "id": "01da9e7f-f857-4768-938d-3c8eb2c64569",
   "metadata": {
    "tags": []
   },
   "outputs": [],
   "source": [
    "L = u - v\n",
    "# L = v - u"
   ]
  },
  {
   "cell_type": "code",
   "execution_count": 31,
   "id": "82c602c8-c49f-4107-ae92-7537ea39b9bc",
   "metadata": {
    "tags": []
   },
   "outputs": [],
   "source": [
    "u.grad = 0\n",
    "v.grad = 0"
   ]
  },
  {
   "cell_type": "code",
   "execution_count": 32,
   "id": "51652399-6e4f-487d-bef4-a75a4b6e4bdc",
   "metadata": {
    "tags": []
   },
   "outputs": [],
   "source": [
    "L.backward()"
   ]
  },
  {
   "cell_type": "code",
   "execution_count": 33,
   "id": "45de2f17-ffc4-473f-a77a-67d637e4aab1",
   "metadata": {
    "tags": []
   },
   "outputs": [
    {
     "data": {
      "text/plain": [
       "Value(data=-1.000000, grad=1.000000)"
      ]
     },
     "execution_count": 33,
     "metadata": {},
     "output_type": "execute_result"
    }
   ],
   "source": [
    "L"
   ]
  },
  {
   "cell_type": "code",
   "execution_count": 34,
   "id": "48c386cc-72b3-4d65-9ea5-7144437d9912",
   "metadata": {
    "tags": []
   },
   "outputs": [
    {
     "data": {
      "text/plain": [
       "(Value(data=2.000000, grad=1.000000), Value(data=3.000000, grad=-1.000000))"
      ]
     },
     "execution_count": 34,
     "metadata": {},
     "output_type": "execute_result"
    }
   ],
   "source": [
    "u, v"
   ]
  },
  {
   "cell_type": "code",
   "execution_count": null,
   "id": "ab360750-775f-40e6-a635-29636e9eeb27",
   "metadata": {},
   "outputs": [],
   "source": []
  },
  {
   "cell_type": "code",
   "execution_count": 35,
   "id": "e24d9a94-2b00-4175-bc7d-b0b11f2ac824",
   "metadata": {},
   "outputs": [],
   "source": [
    "# case 3"
   ]
  },
  {
   "cell_type": "code",
   "execution_count": 36,
   "id": "8f44c718-d984-456d-a106-23dea8a42733",
   "metadata": {
    "tags": []
   },
   "outputs": [],
   "source": [
    "L = u + u"
   ]
  },
  {
   "cell_type": "code",
   "execution_count": 37,
   "id": "31b6ee72-8f49-4289-bf9a-4a4859e67f02",
   "metadata": {
    "tags": []
   },
   "outputs": [],
   "source": [
    "u.grad = 0\n",
    "v.grad = 0"
   ]
  },
  {
   "cell_type": "code",
   "execution_count": 38,
   "id": "b53308d6-ef27-4c99-baa9-1dd9d932ad7d",
   "metadata": {
    "tags": []
   },
   "outputs": [],
   "source": [
    "L.backward()"
   ]
  },
  {
   "cell_type": "code",
   "execution_count": 39,
   "id": "760ec636-5dd7-4a3d-85d1-ddcff7c477bc",
   "metadata": {
    "tags": []
   },
   "outputs": [
    {
     "data": {
      "text/plain": [
       "Value(data=4.000000, grad=1.000000)"
      ]
     },
     "execution_count": 39,
     "metadata": {},
     "output_type": "execute_result"
    }
   ],
   "source": [
    "L"
   ]
  },
  {
   "cell_type": "code",
   "execution_count": 40,
   "id": "21f170cb-cf43-4b5c-b95d-17112d65538a",
   "metadata": {
    "tags": []
   },
   "outputs": [
    {
     "data": {
      "text/plain": [
       "(Value(data=2.000000, grad=2.000000), Value(data=3.000000, grad=0.000000))"
      ]
     },
     "execution_count": 40,
     "metadata": {},
     "output_type": "execute_result"
    }
   ],
   "source": [
    "u, v"
   ]
  },
  {
   "cell_type": "code",
   "execution_count": null,
   "id": "6de7e344-de95-43c6-a124-9e5bc82ccfa0",
   "metadata": {},
   "outputs": [],
   "source": []
  },
  {
   "cell_type": "code",
   "execution_count": 41,
   "id": "9ec5110b-3544-4651-bc33-7a16f372c24c",
   "metadata": {
    "tags": []
   },
   "outputs": [],
   "source": [
    "# case 4"
   ]
  },
  {
   "cell_type": "code",
   "execution_count": 42,
   "id": "cd6c9d7b-a158-4bef-b5c0-982f964fe030",
   "metadata": {
    "tags": []
   },
   "outputs": [
    {
     "data": {
      "text/plain": [
       "Value(data=5.000000, grad=0.000000)"
      ]
     },
     "execution_count": 42,
     "metadata": {},
     "output_type": "execute_result"
    }
   ],
   "source": [
    "L = u + v\n",
    "L"
   ]
  },
  {
   "cell_type": "code",
   "execution_count": 43,
   "id": "6d95383b-293d-4307-91f4-20e7b44c41fa",
   "metadata": {
    "tags": []
   },
   "outputs": [],
   "source": [
    "u.grad = 0\n",
    "v.grad = 0"
   ]
  },
  {
   "cell_type": "code",
   "execution_count": 44,
   "id": "2bf74525-5bdd-456d-a2b5-ad1b4e509892",
   "metadata": {
    "tags": []
   },
   "outputs": [
    {
     "data": {
      "text/plain": [
       "Value(data=5.000000, grad=0.000000)"
      ]
     },
     "execution_count": 44,
     "metadata": {},
     "output_type": "execute_result"
    }
   ],
   "source": [
    "L"
   ]
  },
  {
   "cell_type": "code",
   "execution_count": 45,
   "id": "3b334c65-e4b1-4d09-84d3-41fb946679cf",
   "metadata": {
    "tags": []
   },
   "outputs": [
    {
     "data": {
      "text/plain": [
       "[Value(data=2.000000, grad=0.000000),\n",
       " Value(data=3.000000, grad=0.000000),\n",
       " Value(data=5.000000, grad=0.000000)]"
      ]
     },
     "execution_count": 45,
     "metadata": {},
     "output_type": "execute_result"
    }
   ],
   "source": [
    "tp = util.build_topo(L)\n",
    "tp"
   ]
  },
  {
   "cell_type": "code",
   "execution_count": 46,
   "id": "b0b3facc-c82e-4ebc-8a45-5c8d5bc5be6d",
   "metadata": {
    "tags": []
   },
   "outputs": [
    {
     "data": {
      "text/plain": [
       "3"
      ]
     },
     "execution_count": 46,
     "metadata": {},
     "output_type": "execute_result"
    }
   ],
   "source": [
    "len(tp)"
   ]
  },
  {
   "cell_type": "code",
   "execution_count": 47,
   "id": "2c988c82-73ab-44ed-8d7b-156075548628",
   "metadata": {
    "tags": []
   },
   "outputs": [],
   "source": [
    "L.backward()"
   ]
  },
  {
   "cell_type": "code",
   "execution_count": 48,
   "id": "e8645f33-1ffa-4449-925f-084ac6c0b65a",
   "metadata": {
    "tags": []
   },
   "outputs": [
    {
     "data": {
      "text/plain": [
       "Value(data=5.000000, grad=1.000000)"
      ]
     },
     "execution_count": 48,
     "metadata": {},
     "output_type": "execute_result"
    }
   ],
   "source": [
    "L"
   ]
  },
  {
   "cell_type": "code",
   "execution_count": 49,
   "id": "1c385215-def2-42bf-8115-86c007442420",
   "metadata": {
    "tags": []
   },
   "outputs": [
    {
     "data": {
      "text/plain": [
       "Value(data=5.000000, grad=1.000000)"
      ]
     },
     "execution_count": 49,
     "metadata": {},
     "output_type": "execute_result"
    }
   ],
   "source": [
    "L"
   ]
  },
  {
   "cell_type": "code",
   "execution_count": 50,
   "id": "a3f672ab-1674-484d-b6f8-4c28c8785d54",
   "metadata": {
    "tags": []
   },
   "outputs": [
    {
     "data": {
      "text/plain": [
       "Value(data=3.000000, grad=1.000000)"
      ]
     },
     "execution_count": 50,
     "metadata": {},
     "output_type": "execute_result"
    }
   ],
   "source": [
    "v"
   ]
  },
  {
   "cell_type": "code",
   "execution_count": 51,
   "id": "64e15bfe-166c-499d-9a86-33c2379d7ddd",
   "metadata": {
    "tags": []
   },
   "outputs": [
    {
     "data": {
      "text/plain": [
       "Value(data=2.000000, grad=1.000000)"
      ]
     },
     "execution_count": 51,
     "metadata": {},
     "output_type": "execute_result"
    }
   ],
   "source": [
    "u"
   ]
  },
  {
   "cell_type": "code",
   "execution_count": null,
   "id": "ccbbca47-77c0-453c-906a-b348d08b265e",
   "metadata": {},
   "outputs": [],
   "source": []
  },
  {
   "cell_type": "code",
   "execution_count": 52,
   "id": "7f954681-def6-46cc-bdf5-4a12b7c2d957",
   "metadata": {
    "tags": []
   },
   "outputs": [],
   "source": [
    "# case 5"
   ]
  },
  {
   "cell_type": "code",
   "execution_count": 53,
   "id": "fad909aa-f2d4-43f0-a4bc-c398d62765c2",
   "metadata": {
    "tags": []
   },
   "outputs": [
    {
     "data": {
      "text/plain": [
       "Value(data=5.100000, grad=0.000000)"
      ]
     },
     "execution_count": 53,
     "metadata": {},
     "output_type": "execute_result"
    }
   ],
   "source": [
    "w = Value(5.1)\n",
    "w"
   ]
  },
  {
   "cell_type": "code",
   "execution_count": 54,
   "id": "caf4c382-d927-4668-aad6-18d12c452989",
   "metadata": {
    "tags": []
   },
   "outputs": [
    {
     "data": {
      "text/plain": [
       "Value(data=11.100000, grad=0.000000)"
      ]
     },
     "execution_count": 54,
     "metadata": {},
     "output_type": "execute_result"
    }
   ],
   "source": [
    "L = u * v + w\n",
    "L"
   ]
  },
  {
   "cell_type": "code",
   "execution_count": 55,
   "id": "2e1b6a2f-7fd6-49d3-9391-1e1606ab431e",
   "metadata": {
    "tags": []
   },
   "outputs": [],
   "source": [
    "u.grad = 0\n",
    "v.grad = 0\n",
    "w.grad = 0"
   ]
  },
  {
   "cell_type": "code",
   "execution_count": 56,
   "id": "11a6eb63-6c70-4195-99c6-d05c6c878ba0",
   "metadata": {},
   "outputs": [],
   "source": [
    "L.backward()"
   ]
  },
  {
   "cell_type": "code",
   "execution_count": 57,
   "id": "665c32a3-55bf-4cf5-baf8-f6c15130d479",
   "metadata": {},
   "outputs": [
    {
     "data": {
      "text/plain": [
       "(Value(data=2.000000, grad=3.000000),\n",
       " Value(data=3.000000, grad=2.000000),\n",
       " Value(data=5.100000, grad=1.000000))"
      ]
     },
     "execution_count": 57,
     "metadata": {},
     "output_type": "execute_result"
    }
   ],
   "source": [
    "u, v, w"
   ]
  },
  {
   "cell_type": "code",
   "execution_count": null,
   "id": "e6bbc614-3af2-4b34-8fc1-15eb713bbcc2",
   "metadata": {},
   "outputs": [],
   "source": []
  },
  {
   "cell_type": "code",
   "execution_count": null,
   "id": "570ce01c-6ea9-4662-b933-2e10cf30c784",
   "metadata": {},
   "outputs": [],
   "source": []
  },
  {
   "cell_type": "code",
   "execution_count": 46,
   "id": "5c35657b-06a3-40ea-bc5b-2d586bd98366",
   "metadata": {
    "tags": []
   },
   "outputs": [],
   "source": [
    "# define nn, which is like torch.nn"
   ]
  },
  {
   "cell_type": "code",
   "execution_count": 47,
   "id": "88aa6795-fe5f-45ce-9247-d21a0355c027",
   "metadata": {
    "tags": []
   },
   "outputs": [],
   "source": [
    "class Neuron:\n",
    "    def __init__(self, nin):\n",
    "        self.w = [Value(random.uniform(-1,1)) for _ in range(nin)]\n",
    "        self.b = Value(random.uniform(-1,1))\n",
    "        # self.b = Value(0)\n",
    "        \n",
    "    def __call__(self, x):\n",
    "        act = sum((wi*xi for wi, xi in zip(self.w, x)), self.b)\n",
    "        out = act.tanh()\n",
    "        return out\n",
    "    \n",
    "    def parameters(self):\n",
    "        return self.w + [self.b]\n",
    "    \n",
    "\n",
    "class Layer:\n",
    "    def __init__(self, nin, nout):\n",
    "        self.neurons = [Neuron(nin) for _ in range(nout)]\n",
    "        \n",
    "    def __call__(self, x):\n",
    "        out = [neuron(x) for neuron in self.neurons] \n",
    "        return out[0] if len(out) == 1 else out\n",
    "\n",
    "    def parameters(self):\n",
    "        return [para for neuron in self.neurons for para in neuron.parameters()]\n",
    "    \n",
    "\n",
    "class MLP:\n",
    "    def __init__(self, nin, nouts):\n",
    "        dims = [nin] + nouts\n",
    "        self.layers = [Layer(dim_in, dim_out) for dim_in, dim_out in zip(dims, dims[1:])]\n",
    "        \n",
    "    def __call__(self, x):\n",
    "        for layer in self.layers:\n",
    "            x = layer(x)\n",
    "        return x\n",
    "    \n",
    "    def parameters(self):\n",
    "        return [para for layer in self.layers for para in layer.parameters()]"
   ]
  },
  {
   "cell_type": "code",
   "execution_count": 48,
   "id": "02f83e44-dcdb-437c-ac1d-ee0447772c42",
   "metadata": {
    "tags": []
   },
   "outputs": [],
   "source": [
    "x1 = [\n",
    "  [Value(2.0), Value(3.0), Value(-1.0)],\n",
    "  [Value(3.0), Value(-1.0), Value(0.5)],\n",
    "  [Value(0.5), Value(1.0), Value(1.0)],\n",
    "  [Value(1.0), Value(1.0), Value(-1.0)],\n",
    "]\n",
    "x2 = [\n",
    "    [Value(1.0), Value(2.0)], \n",
    "    [Value(3.0), Value(4.0)],\n",
    "    [Value(0.5), Value(-2.1)],\n",
    "    [Value(1.3), Value(1.5)],\n",
    "]     \n",
    "y = [Value(1.0), Value(-1.0), Value(-1.0), Value(1.0)]"
   ]
  },
  {
   "cell_type": "code",
   "execution_count": 49,
   "id": "50d0585c-27f3-40f3-9f97-642552ed92b0",
   "metadata": {
    "tags": []
   },
   "outputs": [],
   "source": [
    "# nn = MLP(3, [4, 4, 1])\n",
    "nn = MLP(2, [4, 4, 1])"
   ]
  },
  {
   "cell_type": "code",
   "execution_count": 50,
   "id": "4a20e919-fec0-4ac3-901a-121afe6cc86f",
   "metadata": {
    "tags": []
   },
   "outputs": [],
   "source": [
    "from tqdm import tqdm"
   ]
  },
  {
   "cell_type": "code",
   "execution_count": 51,
   "id": "f5c3e311-edf2-4f3c-9264-335fe28e6c0f",
   "metadata": {
    "tags": []
   },
   "outputs": [
    {
     "name": "stderr",
     "output_type": "stream",
     "text": [
      "100%|███████████████████████████████████████████████████████████████████████| 2000/2000 [00:01<00:00, 1582.03it/s]\n"
     ]
    }
   ],
   "source": [
    "ll = []\n",
    "loss = []\n",
    "for i in tqdm(range(2000)):\n",
    "    # forward\n",
    "    ypred = [nn(xi) for xi in x2]\n",
    "    L = sum(((yout - ygt)*(yout - ygt) for yout, ygt in zip(ypred, y)), Value(0))\n",
    "\n",
    "    # backward\n",
    "    for p in nn.parameters():\n",
    "        p.grad = 0.0\n",
    "    L.backward()\n",
    "\n",
    "    # update\n",
    "    for p in nn.parameters():\n",
    "        p.data += -0.01 * p.grad\n",
    "        \n",
    "    # print(i, L)\n",
    "    ll.append(math.log(L.data))\n",
    "    loss.append(L.data)"
   ]
  },
  {
   "cell_type": "code",
   "execution_count": 52,
   "id": "ee0776c9-3f0b-4276-8bfc-d63e69dce9a6",
   "metadata": {
    "tags": []
   },
   "outputs": [],
   "source": [
    "import matplotlib.pyplot as plt"
   ]
  },
  {
   "cell_type": "code",
   "execution_count": 53,
   "id": "7363c032-7c8c-4c55-bfbb-30349443bfc8",
   "metadata": {
    "tags": []
   },
   "outputs": [
    {
     "data": {
      "text/plain": [
       "[<matplotlib.lines.Line2D at 0x10bce96c0>]"
      ]
     },
     "execution_count": 53,
     "metadata": {},
     "output_type": "execute_result"
    },
    {
     "data": {
      "image/png": "[encoded data removed]",
      "text/plain": [
       "<Figure size 640x480 with 1 Axes>"
      ]
     },
     "metadata": {},
     "output_type": "display_data"
    }
   ],
   "source": [
    "plt.plot(loss)"
   ]
  },
  {
   "cell_type": "code",
   "execution_count": 54,
   "id": "12c9d20b-db55-42d7-a32f-31cc66a49b5c",
   "metadata": {
    "tags": []
   },
   "outputs": [
    {
     "data": {
      "text/plain": [
       "[<matplotlib.lines.Line2D at 0x10be155d0>]"
      ]
     },
     "execution_count": 54,
     "metadata": {},
     "output_type": "execute_result"
    },
    {
     "data": {
      "image/png": "[encoded data removed]",
      "text/plain": [
       "<Figure size 640x480 with 1 Axes>"
      ]
     },
     "metadata": {},
     "output_type": "display_data"
    }
   ],
   "source": [
    "plt.plot(loss[200:])"
   ]
  },
  {
   "cell_type": "code",
   "execution_count": 55,
   "id": "136bcc01-ae04-436e-93c7-0aba07e6a67d",
   "metadata": {
    "tags": []
   },
   "outputs": [
    {
     "data": {
      "text/plain": [
       "[<matplotlib.lines.Line2D at 0x10be5ebf0>]"
      ]
     },
     "execution_count": 55,
     "metadata": {},
     "output_type": "execute_result"
    },
    {
     "data": {
      "image/png": "[encoded data removed]",
      "text/plain": [
       "<Figure size 640x480 with 1 Axes>"
      ]
     },
     "metadata": {},
     "output_type": "display_data"
    }
   ],
   "source": [
    "plt.plot(ll[200:])"
   ]
  },
  {
   "cell_type": "code",
   "execution_count": 56,
   "id": "1e15d420-8228-4629-b8a7-f16da6d01e1c",
   "metadata": {
    "tags": []
   },
   "outputs": [
    {
     "data": {
      "text/plain": [
       "[<matplotlib.lines.Line2D at 0x10bf0eb30>]"
      ]
     },
     "execution_count": 56,
     "metadata": {},
     "output_type": "execute_result"
    },
    {
     "data": {
      "image/png": "[encoded data removed]",
      "text/plain": [
       "<Figure size 640x480 with 1 Axes>"
      ]
     },
     "metadata": {},
     "output_type": "display_data"
    }
   ],
   "source": [
    "plt.plot(ll)"
   ]
  },
  {
   "cell_type": "code",
   "execution_count": 57,
   "id": "391afb8c-8e05-473d-b8d7-6319f7787ec4",
   "metadata": {
    "tags": []
   },
   "outputs": [
    {
     "data": {
      "text/plain": [
       "Value(data=0.002762, grad=1.000000)"
      ]
     },
     "execution_count": 57,
     "metadata": {},
     "output_type": "execute_result"
    }
   ],
   "source": [
    "L"
   ]
  },
  {
   "cell_type": "code",
   "execution_count": 58,
   "id": "1d1f5efc-d9b2-4469-9acc-169cc1e74968",
   "metadata": {
    "tags": []
   },
   "outputs": [
    {
     "data": {
      "text/plain": [
       "[1.9119153920866871,\n",
       " 1.8938606243976948,\n",
       " 1.8728854937902648,\n",
       " 1.8485244314498215,\n",
       " 1.8203522067431779]"
      ]
     },
     "execution_count": 58,
     "metadata": {},
     "output_type": "execute_result"
    }
   ],
   "source": [
    "ll[:5]"
   ]
  },
  {
   "cell_type": "code",
   "execution_count": 59,
   "id": "be232777-b1b7-462d-a436-7dec2133e818",
   "metadata": {
    "tags": []
   },
   "outputs": [
    {
     "data": {
      "text/plain": [
       "[-5.889532110005944,\n",
       " -5.890113458629357,\n",
       " -5.890694490147831,\n",
       " -5.891275204904255,\n",
       " -5.891855603240984]"
      ]
     },
     "execution_count": 59,
     "metadata": {},
     "output_type": "execute_result"
    }
   ],
   "source": [
    "ll[-5:]"
   ]
  },
  {
   "cell_type": "code",
   "execution_count": 60,
   "id": "82f9994b-da30-44c7-886a-14da27c8e41b",
   "metadata": {
    "tags": []
   },
   "outputs": [
    {
     "data": {
      "text/plain": [
       "[Value(data=0.974882, grad=-0.050237),\n",
       " Value(data=-0.965665, grad=0.068670),\n",
       " Value(data=-0.973374, grad=0.053251),\n",
       " Value(data=0.984409, grad=-0.031183)]"
      ]
     },
     "execution_count": 60,
     "metadata": {},
     "output_type": "execute_result"
    }
   ],
   "source": [
    "ypred"
   ]
  },
  {
   "cell_type": "code",
   "execution_count": null,
   "id": "911caeb6-466a-4102-8b81-b1d6ea533b00",
   "metadata": {},
   "outputs": [],
   "source": []
  }
 ],
 "metadata": {
  "kernelspec": {
   "display_name": "Python 3 (ipykernel)",
   "language": "python",
   "name": "python3"
  },
  "language_info": {
   "codemirror_mode": {
    "name": "ipython",
    "version": 3
   },
   "file_extension": ".py",
   "mimetype": "text/x-python",
   "name": "python",
   "nbconvert_exporter": "python",
   "pygments_lexer": "ipython3",
   "version": "3.10.6"
  }
 },
 "nbformat": 4,
 "nbformat_minor": 5
}
