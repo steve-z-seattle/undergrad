{
 "cells": [
  {
   "cell_type": "code",
   "execution_count": 1,
   "id": "92af4a1d-af7f-4cf5-95dd-ea4b613b3851",
   "metadata": {
    "tags": []
   },
   "outputs": [],
   "source": [
    "import math"
   ]
  },
  {
   "cell_type": "code",
   "execution_count": 38,
   "id": "e7c136c7-551e-4426-8bfb-472c2e08e49b",
   "metadata": {
    "tags": []
   },
   "outputs": [],
   "source": [
    "class Value:\n",
    "    \n",
    "    def __init__(self, data, op=None, prev=None):\n",
    "        self.data = data\n",
    "        self.grad = 0.0\n",
    "        self.op = op\n",
    "        self.prev = prev\n",
    "        \n",
    "    def __repr__(self):\n",
    "        # return f\"Value({self.data, self.grad, self.op, self.prev})\"\n",
    "        return f\"Value({self.data, self.grad})\"\n",
    "        \n",
    "    # ---------------------------------------------------\n",
    "    # operators\n",
    "    # ---------------------------------------------------\n",
    "    def __add__(self, y):\n",
    "        return Value(self.data + y.data, op='+', prev=(self, y))\n",
    "\n",
    "    def __mul__(self, y):\n",
    "        return Value(self.data * y.data, op='*', prev=(self, y))\n",
    "    \n",
    "    def tanh(self):\n",
    "        return Value(math.tanh(self.data), op='tanh', prev=(self,))\n",
    "\n",
    "    # ---------------------------------------------------\n",
    "    # backward\n",
    "    # ---------------------------------------------------\n",
    "    def backward(self):\n",
    "        def populate_gradients(out, op, prev):\n",
    "            if prev is None:\n",
    "                return\n",
    "            match op:\n",
    "                case '+':\n",
    "                    x, y = prev\n",
    "                    x.grad += out.grad\n",
    "                    y.grad += out.grad\n",
    "                case '*':\n",
    "                    x, y = prev\n",
    "                    x.grad += y.data * out.grad\n",
    "                    y.grad += x.data * out.grad\n",
    "                case 'tanh':\n",
    "                    (x,) = prev\n",
    "                    x.grad += (1 - out.data**2) * out.grad\n",
    "                case _:\n",
    "                    assert False, f'unsupported op: {op}'        \n",
    "\n",
    "        def build_topo(v):\n",
    "            if v is None:\n",
    "                return\n",
    "            if v not in visited:\n",
    "                visited.add(v)\n",
    "                if v.prev:\n",
    "                    for child in set(v.prev):\n",
    "                        build_topo(child)\n",
    "                topo.append(v)\n",
    "\n",
    "        topo = []\n",
    "        visited = set()\n",
    "        build_topo(self)\n",
    "\n",
    "        self.grad = 1.0\n",
    "        for node in reversed(topo):\n",
    "            populate_gradients(node, node.op, node.prev)"
   ]
  },
  {
   "cell_type": "code",
   "execution_count": 39,
   "id": "b438b978-2f84-4d3f-a14a-f8e078299c8e",
   "metadata": {
    "tags": []
   },
   "outputs": [
    {
     "data": {
      "text/plain": [
       "Value((2, 0.0))"
      ]
     },
     "execution_count": 39,
     "metadata": {},
     "output_type": "execute_result"
    }
   ],
   "source": [
    "u = Value(2)\n",
    "u"
   ]
  },
  {
   "cell_type": "code",
   "execution_count": 40,
   "id": "dd08071a-f46d-4f49-9483-065fc47997a3",
   "metadata": {
    "tags": []
   },
   "outputs": [
    {
     "data": {
      "text/plain": [
       "Value((3.0, 0.0))"
      ]
     },
     "execution_count": 40,
     "metadata": {},
     "output_type": "execute_result"
    }
   ],
   "source": [
    "v = Value(3.0)\n",
    "v"
   ]
  },
  {
   "cell_type": "code",
   "execution_count": 41,
   "id": "191aac55-d50b-4d63-a27a-a5fe3b6f2488",
   "metadata": {
    "tags": []
   },
   "outputs": [
    {
     "data": {
      "text/plain": [
       "Value((5.1, 0.0))"
      ]
     },
     "execution_count": 41,
     "metadata": {},
     "output_type": "execute_result"
    }
   ],
   "source": [
    "w = Value(5.1)\n",
    "w"
   ]
  },
  {
   "cell_type": "code",
   "execution_count": null,
   "id": "a290bb06-3466-421e-93d4-b62341f9adbf",
   "metadata": {},
   "outputs": [],
   "source": []
  },
  {
   "cell_type": "code",
   "execution_count": null,
   "id": "b9b247be-bb22-44b9-9352-7f70655352b1",
   "metadata": {},
   "outputs": [],
   "source": []
  },
  {
   "cell_type": "code",
   "execution_count": 42,
   "id": "a5904cd1-cce3-4af3-827b-28779f1689a1",
   "metadata": {
    "tags": []
   },
   "outputs": [
    {
     "data": {
      "text/plain": [
       "Value((0.9640275800758169, 0.0))"
      ]
     },
     "execution_count": 42,
     "metadata": {},
     "output_type": "execute_result"
    }
   ],
   "source": [
    "L = u.tanh()\n",
    "L"
   ]
  },
  {
   "cell_type": "code",
   "execution_count": 43,
   "id": "4a5a9f87-4607-43e6-ac5f-8867930e8e52",
   "metadata": {
    "tags": []
   },
   "outputs": [
    {
     "data": {
      "text/plain": [
       "Value((0.9640275800758169, 1.0))"
      ]
     },
     "execution_count": 43,
     "metadata": {},
     "output_type": "execute_result"
    }
   ],
   "source": [
    "L.grad = 1.0\n",
    "L"
   ]
  },
  {
   "cell_type": "code",
   "execution_count": 44,
   "id": "2d097874-95ef-4ffe-9162-c1d3c382fe15",
   "metadata": {
    "tags": []
   },
   "outputs": [
    {
     "data": {
      "text/plain": [
       "(Value((2, 0.0)),)"
      ]
     },
     "execution_count": 44,
     "metadata": {},
     "output_type": "execute_result"
    }
   ],
   "source": [
    "L.prev"
   ]
  },
  {
   "cell_type": "code",
   "execution_count": 45,
   "id": "a9951026-0dee-48b0-adda-3b87d8ce3a80",
   "metadata": {
    "tags": []
   },
   "outputs": [],
   "source": [
    "u.grad = 0"
   ]
  },
  {
   "cell_type": "code",
   "execution_count": 46,
   "id": "789910b7-333c-4001-82c2-e61b4c1fd5ec",
   "metadata": {
    "tags": []
   },
   "outputs": [],
   "source": [
    "L.backward()"
   ]
  },
  {
   "cell_type": "code",
   "execution_count": 47,
   "id": "3b3ffe99-5baa-46f3-8011-bd7105ef6616",
   "metadata": {
    "tags": []
   },
   "outputs": [
    {
     "data": {
      "text/plain": [
       "Value((2, 0.07065082485316443))"
      ]
     },
     "execution_count": 47,
     "metadata": {},
     "output_type": "execute_result"
    }
   ],
   "source": [
    "u"
   ]
  },
  {
   "cell_type": "code",
   "execution_count": null,
   "id": "6adaf8a8-92fb-4ecf-a8ca-bddd13384828",
   "metadata": {},
   "outputs": [],
   "source": []
  },
  {
   "cell_type": "code",
   "execution_count": null,
   "id": "e24d9a94-2b00-4175-bc7d-b0b11f2ac824",
   "metadata": {},
   "outputs": [],
   "source": []
  },
  {
   "cell_type": "code",
   "execution_count": 12,
   "id": "8f44c718-d984-456d-a106-23dea8a42733",
   "metadata": {
    "tags": []
   },
   "outputs": [],
   "source": [
    "L = u + v"
   ]
  },
  {
   "cell_type": "code",
   "execution_count": 13,
   "id": "31b6ee72-8f49-4289-bf9a-4a4859e67f02",
   "metadata": {
    "tags": []
   },
   "outputs": [],
   "source": [
    "u.grad = 0\n",
    "v.grad = 0"
   ]
  },
  {
   "cell_type": "code",
   "execution_count": 14,
   "id": "b53308d6-ef27-4c99-baa9-1dd9d932ad7d",
   "metadata": {
    "tags": []
   },
   "outputs": [],
   "source": [
    "L.backward()"
   ]
  },
  {
   "cell_type": "code",
   "execution_count": 15,
   "id": "760ec636-5dd7-4a3d-85d1-ddcff7c477bc",
   "metadata": {
    "tags": []
   },
   "outputs": [
    {
     "data": {
      "text/plain": [
       "Value((5.0, 1.0))"
      ]
     },
     "execution_count": 15,
     "metadata": {},
     "output_type": "execute_result"
    }
   ],
   "source": [
    "L"
   ]
  },
  {
   "cell_type": "code",
   "execution_count": 16,
   "id": "21f170cb-cf43-4b5c-b95d-17112d65538a",
   "metadata": {
    "tags": []
   },
   "outputs": [
    {
     "data": {
      "text/plain": [
       "(Value((2, 1.0)), Value((3.0, 1.0)))"
      ]
     },
     "execution_count": 16,
     "metadata": {},
     "output_type": "execute_result"
    }
   ],
   "source": [
    "u, v"
   ]
  },
  {
   "cell_type": "code",
   "execution_count": null,
   "id": "6de7e344-de95-43c6-a124-9e5bc82ccfa0",
   "metadata": {},
   "outputs": [],
   "source": []
  },
  {
   "cell_type": "code",
   "execution_count": 17,
   "id": "cd6c9d7b-a158-4bef-b5c0-982f964fe030",
   "metadata": {
    "tags": []
   },
   "outputs": [
    {
     "data": {
      "text/plain": [
       "Value((4, 0.0))"
      ]
     },
     "execution_count": 17,
     "metadata": {},
     "output_type": "execute_result"
    }
   ],
   "source": [
    "L = u + u\n",
    "L"
   ]
  },
  {
   "cell_type": "code",
   "execution_count": 18,
   "id": "6d95383b-293d-4307-91f4-20e7b44c41fa",
   "metadata": {
    "tags": []
   },
   "outputs": [],
   "source": [
    "u.grad = 0\n",
    "v.grad = 0"
   ]
  },
  {
   "cell_type": "code",
   "execution_count": 19,
   "id": "2c988c82-73ab-44ed-8d7b-156075548628",
   "metadata": {
    "tags": []
   },
   "outputs": [],
   "source": [
    "L.backward()"
   ]
  },
  {
   "cell_type": "code",
   "execution_count": 20,
   "id": "1c385215-def2-42bf-8115-86c007442420",
   "metadata": {
    "tags": []
   },
   "outputs": [
    {
     "data": {
      "text/plain": [
       "Value((4, 1.0))"
      ]
     },
     "execution_count": 20,
     "metadata": {},
     "output_type": "execute_result"
    }
   ],
   "source": [
    "L"
   ]
  },
  {
   "cell_type": "code",
   "execution_count": 21,
   "id": "a3f672ab-1674-484d-b6f8-4c28c8785d54",
   "metadata": {
    "tags": []
   },
   "outputs": [
    {
     "data": {
      "text/plain": [
       "Value((3.0, 0))"
      ]
     },
     "execution_count": 21,
     "metadata": {},
     "output_type": "execute_result"
    }
   ],
   "source": [
    "v"
   ]
  },
  {
   "cell_type": "code",
   "execution_count": 22,
   "id": "64e15bfe-166c-499d-9a86-33c2379d7ddd",
   "metadata": {
    "tags": []
   },
   "outputs": [
    {
     "data": {
      "text/plain": [
       "Value((2, 2.0))"
      ]
     },
     "execution_count": 22,
     "metadata": {},
     "output_type": "execute_result"
    }
   ],
   "source": [
    "u"
   ]
  },
  {
   "cell_type": "code",
   "execution_count": null,
   "id": "ccbbca47-77c0-453c-906a-b348d08b265e",
   "metadata": {},
   "outputs": [],
   "source": []
  },
  {
   "cell_type": "code",
   "execution_count": 23,
   "id": "fad909aa-f2d4-43f0-a4bc-c398d62765c2",
   "metadata": {
    "tags": []
   },
   "outputs": [
    {
     "data": {
      "text/plain": [
       "Value((5.1, 0.0))"
      ]
     },
     "execution_count": 23,
     "metadata": {},
     "output_type": "execute_result"
    }
   ],
   "source": [
    "w = Value(5.1)\n",
    "w"
   ]
  },
  {
   "cell_type": "code",
   "execution_count": 24,
   "id": "caf4c382-d927-4668-aad6-18d12c452989",
   "metadata": {
    "tags": []
   },
   "outputs": [
    {
     "data": {
      "text/plain": [
       "Value((11.1, 0.0))"
      ]
     },
     "execution_count": 24,
     "metadata": {},
     "output_type": "execute_result"
    }
   ],
   "source": [
    "L = u * v + w\n",
    "L"
   ]
  },
  {
   "cell_type": "code",
   "execution_count": 25,
   "id": "2e1b6a2f-7fd6-49d3-9391-1e1606ab431e",
   "metadata": {
    "tags": []
   },
   "outputs": [],
   "source": [
    "u.grad = 0\n",
    "v.grad = 0\n",
    "w.grad = 0"
   ]
  },
  {
   "cell_type": "code",
   "execution_count": 26,
   "id": "11a6eb63-6c70-4195-99c6-d05c6c878ba0",
   "metadata": {},
   "outputs": [],
   "source": [
    "L.backward()"
   ]
  },
  {
   "cell_type": "code",
   "execution_count": 27,
   "id": "665c32a3-55bf-4cf5-baf8-f6c15130d479",
   "metadata": {},
   "outputs": [
    {
     "data": {
      "text/plain": [
       "(Value((2, 3.0)), Value((3.0, 2.0)), Value((5.1, 1.0)))"
      ]
     },
     "execution_count": 27,
     "metadata": {},
     "output_type": "execute_result"
    }
   ],
   "source": [
    "u, v, w"
   ]
  },
  {
   "cell_type": "code",
   "execution_count": null,
   "id": "570ce01c-6ea9-4662-b933-2e10cf30c784",
   "metadata": {},
   "outputs": [],
   "source": []
  },
  {
   "cell_type": "code",
   "execution_count": null,
   "id": "88aa6795-fe5f-45ce-9247-d21a0355c027",
   "metadata": {},
   "outputs": [],
   "source": []
  }
 ],
 "metadata": {
  "kernelspec": {
   "display_name": "Python 3 (ipykernel)",
   "language": "python",
   "name": "python3"
  },
  "language_info": {
   "codemirror_mode": {
    "name": "ipython",
    "version": 3
   },
   "file_extension": ".py",
   "mimetype": "text/x-python",
   "name": "python",
   "nbconvert_exporter": "python",
   "pygments_lexer": "ipython3",
   "version": "3.10.6"
  }
 },
 "nbformat": 4,
 "nbformat_minor": 5
}
